{
  "nbformat": 4,
  "nbformat_minor": 0,
  "metadata": {
    "colab": {
      "provenance": [],
      "authorship_tag": "ABX9TyNkOcG9YKaILS4t9JGBsECr",
      "include_colab_link": true
    },
    "kernelspec": {
      "name": "python3",
      "display_name": "Python 3"
    },
    "language_info": {
      "name": "python"
    }
  },
  "cells": [
    {
      "cell_type": "markdown",
      "metadata": {
        "id": "view-in-github",
        "colab_type": "text"
      },
      "source": [
        "<a href=\"https://colab.research.google.com/github/nefedov112/hello-world/blob/master/neironka.ipynb\" target=\"_parent\"><img src=\"https://colab.research.google.com/assets/colab-badge.svg\" alt=\"Open In Colab\"/></a>"
      ]
    },
    {
      "cell_type": "code",
      "execution_count": 1,
      "metadata": {
        "id": "_CCBV29z6joK"
      },
      "outputs": [],
      "source": [
        "import keras\n",
        "from keras.models import Sequential\n",
        "from keras.layers import Dense, Conv2D, MaxPooling2D, Dropout, Flatten\n",
        "import matplotlib.pyplot as plt\n",
        "import numpy as np\n",
        "from os import listdir\n",
        "from sklearn.model_selection import train_test_split\n",
        "\n",
        "def loadImages(path):\n",
        "  imagesList = listdir(path)\n",
        "  loadedImages = []\n",
        "  for image in imagesList:\n",
        "    loadedImages.append(plt.imread(path + image))\n",
        "  return np.array(loadedImages)\n",
        "\n",
        "habitable = loadImages('./train2/habitable/') / 255\n",
        "nohabitable = loadImages('./train2/nohabitable/') / 255"
      ]
    },
    {
      "cell_type": "code",
      "source": [
        "photo = np.concatenate((habitable, nohabitable), axis=0)\n",
        "label_first = np.concatenate((np.zeros(135), np.ones(135)), axis=0)\n",
        "label_second = np.concatenate((np.ones(135), np.zeros(135)), axis=0)\n",
        "label_almost = np.vstack((label_first, label_second))\n",
        "label = label_almost.swapaxes(1,0)"
      ],
      "metadata": {
        "id": "MlxSx0Od9A0u"
      },
      "execution_count": null,
      "outputs": []
    },
    {
      "cell_type": "code",
      "source": [
        "X_train, X_test, y_train, y_test = train_test_split(photo, label, test_size = 0.1, random_state = 42)\n",
        "model = Sequential()\n",
        "model.add(Conv2D(32,kernel_size=(2,2), activation='relu'))\n",
        "model.add(Conv2D(64,(3,3), activation='relu',))\n",
        "model.add(MaxPooling2D(pool_size=(2,2)))\n",
        "model.add(Dropout(0.25))\n",
        "model.add(Flatten())\n",
        "model.add(Dense(128, activation='relu'))\n",
        "model.add(Dropout(0.5))\n",
        "model.add(Dense(2, activation='softmax'))"
      ],
      "metadata": {
        "id": "fKzMFbKq9BKJ"
      },
      "execution_count": 3,
      "outputs": []
    },
    {
      "cell_type": "code",
      "source": [
        "model.compile(loss=keras.losses.binary_crossentropy,\n",
        "              optimizer=keras.optimizers.Adam(),\n",
        "              metrics=['accuracy'])"
      ],
      "metadata": {
        "id": "X6G2wy7Vf2wj"
      },
      "execution_count": 4,
      "outputs": []
    },
    {
      "cell_type": "code",
      "source": [
        "model.fit(X_train, y_train,\n",
        "          epochs=40,\n",
        "          verbose=1,\n",
        "          validation_data=(X_test, y_test))"
      ],
      "metadata": {
        "id": "dFqqGmHBgTx1"
      },
      "execution_count": null,
      "outputs": []
    },
    {
      "cell_type": "code",
      "source": [
        "imagesList = listdir('./test/')\n",
        "test = []\n",
        "test.append(plt.imread('./test/' + 'zavod58.jpg'))\n",
        "test = np.array(test)\n",
        "print(test.shape)\n",
        "x_new_data = test / 255\n",
        "print(x_new_data)\n",
        "#prediction = model.predict(x_new_data)\n"
      ],
      "metadata": {
        "colab": {
          "base_uri": "https://localhost:8080/"
        },
        "id": "VgCf3BqANlX5",
        "outputId": "1f86e00c-e936-4d24-c276-752d0ea52dd9"
      },
      "execution_count": 20,
      "outputs": [
        {
          "output_type": "stream",
          "name": "stdout",
          "text": [
            "(1, 1440, 1920, 3)\n",
            "[[[[0.19215686 0.21176471 0.29019608]\n",
            "   [0.16862745 0.18823529 0.26666667]\n",
            "   [0.16862745 0.18823529 0.26666667]\n",
            "   ...\n",
            "   [0.03921569 0.03921569 0.03921569]\n",
            "   [0.03921569 0.03921569 0.03921569]\n",
            "   [0.03921569 0.03921569 0.03921569]]\n",
            "\n",
            "  [[0.18823529 0.20784314 0.28627451]\n",
            "   [0.17254902 0.19215686 0.27058824]\n",
            "   [0.17254902 0.19215686 0.27058824]\n",
            "   ...\n",
            "   [0.04313725 0.04313725 0.04313725]\n",
            "   [0.04705882 0.04705882 0.04705882]\n",
            "   [0.04705882 0.04705882 0.04705882]]\n",
            "\n",
            "  [[0.19215686 0.21176471 0.29019608]\n",
            "   [0.17647059 0.19607843 0.2745098 ]\n",
            "   [0.17647059 0.19607843 0.2745098 ]\n",
            "   ...\n",
            "   [0.04313725 0.04313725 0.04313725]\n",
            "   [0.04705882 0.04705882 0.04705882]\n",
            "   [0.05098039 0.05098039 0.05098039]]\n",
            "\n",
            "  ...\n",
            "\n",
            "  [[0.34117647 0.29803922 0.29019608]\n",
            "   [0.33333333 0.29019608 0.28235294]\n",
            "   [0.31764706 0.2745098  0.26666667]\n",
            "   ...\n",
            "   [0.15686275 0.16470588 0.07058824]\n",
            "   [0.15686275 0.16470588 0.07843137]\n",
            "   [0.16470588 0.17254902 0.08627451]]\n",
            "\n",
            "  [[0.32941176 0.28627451 0.27843137]\n",
            "   [0.31372549 0.27058824 0.2627451 ]\n",
            "   [0.29411765 0.25098039 0.24313725]\n",
            "   ...\n",
            "   [0.27843137 0.27843137 0.16862745]\n",
            "   [0.22352941 0.23529412 0.12941176]\n",
            "   [0.18039216 0.19215686 0.08627451]]\n",
            "\n",
            "  [[0.33333333 0.29019608 0.28235294]\n",
            "   [0.30980392 0.26666667 0.25882353]\n",
            "   [0.28627451 0.24313725 0.23529412]\n",
            "   ...\n",
            "   [0.43137255 0.43529412 0.30980392]\n",
            "   [0.34901961 0.36078431 0.24705882]\n",
            "   [0.2745098  0.28627451 0.17254902]]]]\n"
          ]
        }
      ]
    }
  ]
}